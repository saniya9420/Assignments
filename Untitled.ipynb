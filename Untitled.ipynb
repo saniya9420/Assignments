{
 "cells": [
  {
   "cell_type": "code",
   "execution_count": 1,
   "id": "719983e2-4136-4df2-bfe7-2bcf6074e2de",
   "metadata": {},
   "outputs": [
    {
     "name": "stdout",
     "output_type": "stream",
     "text": [
      "Random List: [52, 36, 78, 42, 54, 74, 98, 34, 10, 4, 30, 9, 93, 68, 53, 5, 14, 8, 39, 81]\n",
      "Even Numbers: [52, 36, 78, 42, 54, 74, 98, 34, 10, 4, 30, 68, 14, 8]\n"
     ]
    }
   ],
   "source": [
    "import random\n",
    "\n",
    "# Create a random list of numbers\n",
    "random_list = [random.randint(1, 100) for _ in range(20)]  # List of 20 random numbers between 1 and 100\n",
    "\n",
    "# Print the random list\n",
    "print(\"Random List:\", random_list)\n",
    "\n",
    "# Find and print all even numbers in the list\n",
    "even_numbers = [num for num in random_list if num % 2 == 0]\n",
    "\n",
    "print(\"Even Numbers:\", even_numbers)"
   ]
  },
  {
   "cell_type": "code",
   "execution_count": null,
   "id": "e88b52bc-df77-411d-ac43-3b7665fc3262",
   "metadata": {},
   "outputs": [],
   "source": []
  }
 ],
 "metadata": {
  "kernelspec": {
   "display_name": "Python 3 (ipykernel)",
   "language": "python",
   "name": "python3"
  },
  "language_info": {
   "codemirror_mode": {
    "name": "ipython",
    "version": 3
   },
   "file_extension": ".py",
   "mimetype": "text/x-python",
   "name": "python",
   "nbconvert_exporter": "python",
   "pygments_lexer": "ipython3",
   "version": "3.12.1"
  }
 },
 "nbformat": 4,
 "nbformat_minor": 5
}
