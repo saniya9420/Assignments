{
 "cells": [
  {
   "cell_type": "code",
   "execution_count": 1,
   "id": "719983e2-4136-4df2-bfe7-2bcf6074e2de",
   "metadata": {},
   "outputs": [
    {
     "name": "stdout",
     "output_type": "stream",
     "text": [
      "Random List: [52, 36, 78, 42, 54, 74, 98, 34, 10, 4, 30, 9, 93, 68, 53, 5, 14, 8, 39, 81]\n",
      "Even Numbers: [52, 36, 78, 42, 54, 74, 98, 34, 10, 4, 30, 68, 14, 8]\n"
     ]
    }
   ],
   "source": [
    "import random\n",
    "\n",
    "# Create a random list of numbers\n",
    "random_list = [random.randint(1, 100) for _ in range(20)]  # List of 20 random numbers between 1 and 100\n",
    "\n",
    "# Print the random list\n",
    "print(\"Random List:\", random_list)\n",
    "\n",
    "# Find and print all even numbers in the list\n",
    "even_numbers = [num for num in random_list if num % 2 == 0]\n",
    "\n",
    "print(\"Even Numbers:\", even_numbers)"
   ]
  },
  {
   "cell_type": "code",
   "execution_count": 2,
   "id": "e88b52bc-df77-411d-ac43-3b7665fc3262",
   "metadata": {},
   "outputs": [
    {
     "name": "stdout",
     "output_type": "stream",
     "text": [
      "Original String: Hello, World!\n",
      "Reversed String: !dlroW ,olleH\n"
     ]
    }
   ],
   "source": [
    "# Create a string\n",
    "original_string = \"Hello, World!\"\n",
    "\n",
    "# Print the original string\n",
    "print(\"Original String:\", original_string)\n",
    "\n",
    "# Reverse the string\n",
    "reversed_string = original_string[::-1]\n",
    "\n",
    "# Print the reversed string\n",
    "print(\"Reversed String:\", reversed_string)"
   ]
  },
  {
   "cell_type": "code",
   "execution_count": 3,
   "id": "24220dde-b1ea-4635-94a4-08c06883a1a1",
   "metadata": {},
   "outputs": [
    {
     "name": "stdout",
     "output_type": "stream",
     "text": [
      "Original String: Hello, World! This is a test.\n",
      "String with Reversed Words: ,olleH !dlroW sihT si a .tset\n"
     ]
    }
   ],
   "source": [
    "# Create a string\n",
    "original_string = \"Hello, World! This is a test.\"\n",
    "\n",
    "# Print the original string\n",
    "print(\"Original String:\", original_string)\n",
    "\n",
    "# Split the string into words, reverse each word, and join them back into a string\n",
    "reversed_words_string = ' '.join(word[::-1] for word in original_string.split())\n",
    "\n",
    "# Print the string with individual words reversed\n",
    "print(\"String with Reversed Words:\", reversed_words_string)"
   ]
  },
  {
   "cell_type": "code",
   "execution_count": null,
   "id": "f35fc70f-b3c9-43b1-93fa-fb4692b77019",
   "metadata": {},
   "outputs": [],
   "source": []
  }
 ],
 "metadata": {
  "kernelspec": {
   "display_name": "Python 3 (ipykernel)",
   "language": "python",
   "name": "python3"
  },
  "language_info": {
   "codemirror_mode": {
    "name": "ipython",
    "version": 3
   },
   "file_extension": ".py",
   "mimetype": "text/x-python",
   "name": "python",
   "nbconvert_exporter": "python",
   "pygments_lexer": "ipython3",
   "version": "3.12.1"
  }
 },
 "nbformat": 4,
 "nbformat_minor": 5
}
