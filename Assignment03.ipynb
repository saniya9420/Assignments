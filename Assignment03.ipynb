{
 "cells": [
  {
   "cell_type": "code",
   "execution_count": 2,
   "id": "e2c8936f-5527-4bbf-bc9f-2c33c3a1f363",
   "metadata": {},
   "outputs": [],
   "source": [
    "import pandas as pd\n",
    "import numpy as np\n",
    "\n",
    "# Create the data dictionary\n",
    "data = {\n",
    "    'Visitor_ID': [f'V{1000 + i}' for i in range(20)],\n",
    "    'Name': ['ABHISHEK SANDEEP      ZADE     ', 'ARNAV AJAY DESHPANDE.. ', '.. .. ASHWINI LALCHAND MUNDAWARE/ ', 'GAYATRI SURESH GAIKWAD', 'HARSHADA GANESH CHAUDHARI',\n",
    "             'VAIBHAVI HARISHWAR PATIL', np.nan, 'VISHAKHA PUNDLIK JADHAV', 'YASH BHARAT SOLUNKE/', 'VIVEK SANTOSH KHANDWE',\n",
    "             'VISHAKHA PUNDLIK JADHAV', 'Tanushree chhanwal', 'Shruti jaiswal', 'Shriyash Sulakhe', 'YASH BHARAT SOLUNKE',\n",
    "             np.nan, 'ARNAV AJAY DESHPANDE', 'RUTUJA SANTOSH THOTE', 'ROHIT DILIP BILWAL', 'RITESH SHIVAJI BAIRAGI'],\n",
    "    'Age': [25, 23, 22, np.nan, 21, 25, 24, 24, 28, np.nan,\n",
    "            22, 23, 25, 27, 25, 30, 31, 26, 19, 19],\n",
    "    'Ticket_Price': [500, 750, 500, 1000, np.nan, 500, 700, 650, 750, 1000,\n",
    "                      500, 800, np.nan, 750, 500, 700, 900, 850, 750, np.nan],\n",
    "    'Check_In_Time': ['10:00 AM', '10:30 AM', '11:00 AM', '11:30 AM', np.nan,\n",
    "                       '10:00 AM', '12:00 PM', '12:30 PM', '01:00 PM', '01:30 PM',\n",
    "                       '11:00 AM', '02:00 PM', np.nan, '02:30 PM', '10:00 AM',\n",
    "                       '12:00 PM', '03:00 PM', '03:30 PM', '04:00 PM', np.nan],\n",
    "    'City':['Delhi','Aurangabad', 'Mumbai','Bombay','New Delhi','NDL','Chennai','Chenai','Chennaai','Bangalore',\n",
    "            'Delhi','Pune', 'New Delhi','Bombay','New Delhi','NDL','Indore','Bangalore','Ujjain','Bangalore'],\n",
    "    'State': ['Delhi','Maharastra', 'Maharastra','Maharastra','Delhi','Delhi','Tamilnadu','Tamilnadu','Tamilnadu','Karnataka',\n",
    "            'Delhi','Maharastra', 'Delhi','Maharastra','Delhi','Delhi','Madhya Pradesh','Karnataka','Madhya Pradesh','Karnataka']\n",
    "}\n",
    "\n",
    "# Convert it into pandas DataFrame\n",
    "df = pd.DataFrame(data)"
   ]
  },
  {
   "cell_type": "code",
   "execution_count": 3,
   "id": "f7953cce-1cda-4b8b-9953-640158e9f8a1",
   "metadata": {},
   "outputs": [
    {
     "name": "stdout",
     "output_type": "stream",
     "text": [
      "Size of DataFrame: (20, 7)\n"
     ]
    }
   ],
   "source": [
    "# Print size of DataFrame\n",
    "print(\"Size of DataFrame:\", df.shape)"
   ]
  },
  {
   "cell_type": "code",
   "execution_count": 4,
   "id": "53c00ab2-1ff0-4a31-822a-712220e55261",
   "metadata": {},
   "outputs": [
    {
     "name": "stdout",
     "output_type": "stream",
     "text": [
      "\n",
      "Top 5 Rows:\n",
      "  Visitor_ID                                Name   Age  Ticket_Price  \\\n",
      "0      V1000     ABHISHEK SANDEEP      ZADE       25.0         500.0   \n",
      "1      V1001             ARNAV AJAY DESHPANDE..   23.0         750.0   \n",
      "2      V1002  .. .. ASHWINI LALCHAND MUNDAWARE/   22.0         500.0   \n",
      "3      V1003              GAYATRI SURESH GAIKWAD   NaN        1000.0   \n",
      "4      V1004           HARSHADA GANESH CHAUDHARI  21.0           NaN   \n",
      "\n",
      "  Check_In_Time        City       State  \n",
      "0      10:00 AM       Delhi       Delhi  \n",
      "1      10:30 AM  Aurangabad  Maharastra  \n",
      "2      11:00 AM      Mumbai  Maharastra  \n",
      "3      11:30 AM      Bombay  Maharastra  \n",
      "4           NaN   New Delhi       Delhi  \n",
      "\n",
      "Last 2 Rows:\n",
      "   Visitor_ID                    Name   Age  Ticket_Price Check_In_Time  \\\n",
      "18      V1018      ROHIT DILIP BILWAL  19.0         750.0      04:00 PM   \n",
      "19      V1019  RITESH SHIVAJI BAIRAGI  19.0           NaN           NaN   \n",
      "\n",
      "         City           State  \n",
      "18     Ujjain  Madhya Pradesh  \n",
      "19  Bangalore       Karnataka  \n"
     ]
    }
   ],
   "source": [
    "# Print top 5 rows\n",
    "print(\"\\nTop 5 Rows:\")\n",
    "print(df.head())\n",
    "\n",
    "# Print last 2 rows\n",
    "print(\"\\nLast 2 Rows:\")\n",
    "print(df.tail(2))"
   ]
  },
  {
   "cell_type": "code",
   "execution_count": 5,
   "id": "ab9d5d12-e956-4b9d-ba63-40ef87c74569",
   "metadata": {},
   "outputs": [
    {
     "name": "stdout",
     "output_type": "stream",
     "text": [
      "\n",
      "Column Data Types:\n",
      "Visitor_ID        object\n",
      "Name              object\n",
      "Age              float64\n",
      "Ticket_Price     float64\n",
      "Check_In_Time     object\n",
      "City              object\n",
      "State             object\n",
      "dtype: object\n"
     ]
    }
   ],
   "source": [
    "# Print column data types\n",
    "print(\"\\nColumn Data Types:\")\n",
    "print(df.dtypes)"
   ]
  },
  {
   "cell_type": "code",
   "execution_count": 6,
   "id": "857f1788-8440-4085-b351-3b98894a5a59",
   "metadata": {},
   "outputs": [
    {
     "name": "stdout",
     "output_type": "stream",
     "text": [
      "\n",
      "Statistical Descriptions:\n",
      "       Visitor_ID                     Name        Age  Ticket_Price  \\\n",
      "count          20                       18  18.000000     17.000000   \n",
      "unique         20                       17        NaN           NaN   \n",
      "top         V1000  VISHAKHA PUNDLIK JADHAV        NaN           NaN   \n",
      "freq            1                        2        NaN           NaN   \n",
      "mean          NaN                      NaN  24.388889    711.764706   \n",
      "std           NaN                      NaN   3.292396    170.045409   \n",
      "min           NaN                      NaN  19.000000    500.000000   \n",
      "25%           NaN                      NaN  22.250000    500.000000   \n",
      "50%           NaN                      NaN  24.500000    750.000000   \n",
      "75%           NaN                      NaN  25.750000    800.000000   \n",
      "max           NaN                      NaN  31.000000   1000.000000   \n",
      "\n",
      "       Check_In_Time       City  State  \n",
      "count             17         20     20  \n",
      "unique            13         13      5  \n",
      "top         10:00 AM  New Delhi  Delhi  \n",
      "freq               3          3      7  \n",
      "mean             NaN        NaN    NaN  \n",
      "std              NaN        NaN    NaN  \n",
      "min              NaN        NaN    NaN  \n",
      "25%              NaN        NaN    NaN  \n",
      "50%              NaN        NaN    NaN  \n",
      "75%              NaN        NaN    NaN  \n",
      "max              NaN        NaN    NaN  \n"
     ]
    }
   ],
   "source": [
    "# Print statistical descriptions\n",
    "print(\"\\nStatistical Descriptions:\")\n",
    "print(df.describe(include='all'))"
   ]
  },
  {
   "cell_type": "code",
   "execution_count": 9,
   "id": "73e8d5d6-b86c-4c68-aa0d-299604e7e702",
   "metadata": {},
   "outputs": [],
   "source": [
    "# Remove duplicates\n",
    "df.drop_duplicates(inplace=True)"
   ]
  },
  {
   "cell_type": "code",
   "execution_count": 11,
   "id": "a134797f-3784-4ddf-8231-e3d8cf46e61a",
   "metadata": {},
   "outputs": [],
   "source": [
    "# Remove rows with NaN values\n",
    "df.dropna(inplace=True)"
   ]
  },
  {
   "cell_type": "code",
   "execution_count": 13,
   "id": "61e88788-101e-45ef-8720-e55793e64dff",
   "metadata": {},
   "outputs": [
    {
     "name": "stdout",
     "output_type": "stream",
     "text": [
      "\n",
      "Cleaned DataFrame:\n",
      "   Visitor_ID                                Name      Age Ticket_Price  \\\n",
      "0       V1000     ABHISHEK SANDEEP      ZADE          25.0        500.0   \n",
      "1       V1001             ARNAV AJAY DESHPANDE..      23.0        750.0   \n",
      "2       V1002  .. .. ASHWINI LALCHAND MUNDAWARE/      22.0        500.0   \n",
      "3       V1003              GAYATRI SURESH GAIKWAD  Unknown       1000.0   \n",
      "4       V1004           HARSHADA GANESH CHAUDHARI     21.0      Unknown   \n",
      "5       V1005            VAIBHAVI HARISHWAR PATIL     25.0        500.0   \n",
      "6       V1006                             Unknown     24.0        700.0   \n",
      "7       V1007             VISHAKHA PUNDLIK JADHAV     24.0        650.0   \n",
      "8       V1008                YASH BHARAT SOLUNKE/     28.0        750.0   \n",
      "9       V1009               VIVEK SANTOSH KHANDWE  Unknown       1000.0   \n",
      "10      V1010             VISHAKHA PUNDLIK JADHAV     22.0        500.0   \n",
      "11      V1011                  Tanushree chhanwal     23.0        800.0   \n",
      "12      V1012                      Shruti jaiswal     25.0      Unknown   \n",
      "13      V1013                    Shriyash Sulakhe     27.0        750.0   \n",
      "14      V1014                 YASH BHARAT SOLUNKE     25.0        500.0   \n",
      "15      V1015                             Unknown     30.0        700.0   \n",
      "16      V1016                ARNAV AJAY DESHPANDE     31.0        900.0   \n",
      "17      V1017                RUTUJA SANTOSH THOTE     26.0        850.0   \n",
      "18      V1018                  ROHIT DILIP BILWAL     19.0        750.0   \n",
      "19      V1019              RITESH SHIVAJI BAIRAGI     19.0      Unknown   \n",
      "\n",
      "   Check_In_Time        City           State  \n",
      "0       10:00 AM       Delhi           Delhi  \n",
      "1       10:30 AM  Aurangabad      Maharastra  \n",
      "2       11:00 AM      Mumbai      Maharastra  \n",
      "3       11:30 AM      Bombay      Maharastra  \n",
      "4        Unknown   New Delhi           Delhi  \n",
      "5       10:00 AM         NDL           Delhi  \n",
      "6       12:00 PM     Chennai       Tamilnadu  \n",
      "7       12:30 PM      Chenai       Tamilnadu  \n",
      "8       01:00 PM    Chennaai       Tamilnadu  \n",
      "9       01:30 PM   Bangalore       Karnataka  \n",
      "10      11:00 AM       Delhi           Delhi  \n",
      "11      02:00 PM        Pune      Maharastra  \n",
      "12       Unknown   New Delhi           Delhi  \n",
      "13      02:30 PM      Bombay      Maharastra  \n",
      "14      10:00 AM   New Delhi           Delhi  \n",
      "15      12:00 PM         NDL           Delhi  \n",
      "16      03:00 PM      Indore  Madhya Pradesh  \n",
      "17      03:30 PM   Bangalore       Karnataka  \n",
      "18      04:00 PM      Ujjain  Madhya Pradesh  \n",
      "19       Unknown   Bangalore       Karnataka  \n"
     ]
    }
   ],
   "source": [
    "# Print the cleaned DataFrame\n",
    "print(\"\\nCleaned DataFrame:\")\n",
    "print(df)"
   ]
  },
  {
   "cell_type": "code",
   "execution_count": null,
   "id": "8073d4a1-6d44-4e38-97df-ef48c8a4a5c9",
   "metadata": {},
   "outputs": [],
   "source": []
  }
 ],
 "metadata": {
  "kernelspec": {
   "display_name": "Python 3 (ipykernel)",
   "language": "python",
   "name": "python3"
  },
  "language_info": {
   "codemirror_mode": {
    "name": "ipython",
    "version": 3
   },
   "file_extension": ".py",
   "mimetype": "text/x-python",
   "name": "python",
   "nbconvert_exporter": "python",
   "pygments_lexer": "ipython3",
   "version": "3.12.1"
  }
 },
 "nbformat": 4,
 "nbformat_minor": 5
}
